{
 "cells": [
  {
   "cell_type": "markdown",
   "metadata": {},
   "source": [
    "# Introduction to Logistic Regression"
   ]
  },
  {
   "cell_type": "markdown",
   "metadata": {},
   "source": [
    "### Implementation\n",
    "\n",
    "In this notebook, we will implement logistic regression and demostrate its usage to classify images of handwritten digits. If you're interested in learning more about the theory, check out my blog post [here](https://abelmariam.github.io/2017/11/06/intro-to-logreg.html).\n",
    "\n",
    "We have the data files $\\texttt{train3.txt}$, $\\texttt{test3.txt}$, $\\texttt{train5.txt}$, and $\\texttt{test5.txt}$ which contain 8x8 images of handwritten digits. Each image is represented in the files by one line of text. "
   ]
  },
  {
   "cell_type": "code",
   "execution_count": 1,
   "metadata": {
    "collapsed": true,
    "scrolled": true
   },
   "outputs": [],
   "source": [
    "import numpy as np\n",
    "import matplotlib.pylab as plt\n",
    "%matplotlib inline\n",
    "\n",
    "def readData(filename):\n",
    "    data = []\n",
    "    \n",
    "    with open(filename) as file:\n",
    "        for line in file:\n",
    "            data = data + [list(map(int, line.split()))]\n",
    "          \n",
    "    return data\n",
    "\n",
    "def sigmoid(x):\n",
    "    return 1.0/(1.0 + np.exp(-x))\n",
    "    \n",
    "def logLikelihood(w,y,X):\n",
    "    ll = 0.0\n",
    "    \n",
    "    for t in range(len(y)):\n",
    "        ll = ll + (y[t]*np.log(sigmoid(np.inner(w,X[t])))) + \\\n",
    "             ((1-y[t])*np.log(sigmoid(-np.inner(w,X[t]))))\n",
    "             \n",
    "    return ll\n",
    "\n",
    "# Note: We utilize one of the nice properties of the sigmoid function: s'(x) = s(x)*(1 - s(x))\n",
    "def gradient(w,y,X):\n",
    "    grad = np.zeros((len(w),))\n",
    "    \n",
    "    for t in range(len(y)):\n",
    "        grad = np.add(grad,np.multiply(X[t],y[t]-sigmoid(np.inner(w,X[t]))))\n",
    "        \n",
    "    return grad\n",
    "    \n",
    "\n",
    "def gradAscent(start,stepSize,precision): \n",
    "    old = np.zeros((len(start),))\n",
    "    new = start\n",
    "    likelihood = [logLikelihood(start,y,X)]\n",
    "    \n",
    "    while abs(logLikelihood(old,y,X) - logLikelihood(new,y,X)) > precision:\n",
    "        old = new\n",
    "        new = old + (stepSize * gradient(old,y,X))\n",
    "        likelihood = likelihood + [logLikelihood(new,y,X)]\n",
    "    \n",
    "    return new, likelihood\n",
    "\n",
    "# Given the feature vector and corresponding set of coefficents, return the predicted label\n",
    "# where 1 corresponds to a 3 digit and 0 being a 5 digit\n",
    "def prediction(w,x):\n",
    "    return int(sigmoid(np.inner(x,w)) > 0.5)\n",
    "\n",
    "# Given the data set (X) with the corresponding label values (y) and the vector\n",
    "# of coefficents (w), the function computes the error rate \n",
    "def errorRate(y,X,w):\n",
    "    count = 0.0\n",
    "    \n",
    "    for i in range(len(X)):\n",
    "        if prediction(w,X[i]) is not y[i]:\n",
    "            count = count + 1.0\n",
    "            \n",
    "    return count/len(X)"
   ]
  },
  {
   "cell_type": "code",
   "execution_count": 2,
   "metadata": {
    "scrolled": true
   },
   "outputs": [
    {
     "data": {
      "text/plain": [
       "<matplotlib.text.Text at 0x111af7198>"
      ]
     },
     "execution_count": 2,
     "metadata": {},
     "output_type": "execute_result"
    },
    {
     "data": {
      "image/png": "[encoded data removed]",
      "text/plain": [
       "<matplotlib.figure.Figure at 0x107a7c630>"
      ]
     },
     "metadata": {},
     "output_type": "display_data"
    }
   ],
   "source": [
    "# Read in and format the training data\n",
    "\n",
    "train3 = readData('./data/train3.txt') \n",
    "train5 = readData('./data/train5.txt')\n",
    "X = train3 + train5   \n",
    "y = [1]*len(train3) + [0]*len(train5) # Label of 1 corresponding to a three and 0 corresponding to a five digit\n",
    "\n",
    "# Compute the maximum likelihood estimate of the weights computed via the gradient ascent algorithm\n",
    "w, likelihood = gradAscent(np.random.rand(len(X[0])),0.02/len(X[0]),0.1)\n",
    "\n",
    "# Calculate the training error rate (the ratio of training examples whose label was incorrectly predicted)\n",
    "trainingError = errorRate(y,X,w)\n",
    "\n",
    "# Plot of log-likelihood vs number of iterations of Gradient Ascent\n",
    "fig, ax = plt.subplots() \n",
    "plt.plot(likelihood, 'r.')\n",
    "plt.xlabel('Number of Iterations of Gradient Ascent')\n",
    "plt.ylabel('Log-Likelihood')"
   ]
  },
  {
   "cell_type": "markdown",
   "metadata": {},
   "source": [
    "Based on the graph above, we can see that the gradient ascent algorithm converged fairly quickly. We could try and tune the learning rate to improve performance but for the purposes of this notebook, its not necessary. Another thing worth noting is that since the log-likelihood is a concave function (in this case), we know that it in-fact converged to *the* global maximum. "
   ]
  },
  {
   "cell_type": "code",
   "execution_count": 3,
   "metadata": {},
   "outputs": [
    {
     "name": "stdout",
     "output_type": "stream",
     "text": [
      "Training error-rate: 0.0436\n",
      "Test error-rate: 0.0612\n"
     ]
    }
   ],
   "source": [
    "# Read in and format the test data\n",
    "\n",
    "test3 = readData('./data/test3.txt')\n",
    "test5 = readData('./data/test5.txt')\n",
    "X = test3 + test5\n",
    "y = [1]*len(test3) + [0]*len(test5)\n",
    "\n",
    "# Calculate the test error rate (the ratio of test examples whose label was incorrectly predicted)\n",
    "testError = errorRate(y,X,w)\n",
    "\n",
    "print(f\"Training error-rate: {trainingError:.3}\")\n",
    "print(f\"Test error-rate: {testError:.3}\")"
   ]
  }
 ],
 "metadata": {
  "kernelspec": {
   "display_name": "Python 3",
   "language": "python",
   "name": "python3"
  },
  "language_info": {
   "codemirror_mode": {
    "name": "ipython",
    "version": 3
   },
   "file_extension": ".py",
   "mimetype": "text/x-python",
   "name": "python",
   "nbconvert_exporter": "python",
   "pygments_lexer": "ipython3",
   "version": "3.6.1"
  }
 },
 "nbformat": 4,
 "nbformat_minor": 1
}
